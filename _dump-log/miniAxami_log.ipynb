{
  "cells": [],
  "metadata": {
    "colab": {
      "authorship_tag": "ABX9TyMlQ3FL+r6r2wi9sRF8mPZ8",
      "include_colab_link": true,
      "provenance": []
    },
    "kernelspec": {
      "display_name": "Python 3",
      "name": "python3"
    },
    "language_info": {
      "name": "python"
    }
  },
  "nbformat": 4,
  "nbformat_minor": 0
}
